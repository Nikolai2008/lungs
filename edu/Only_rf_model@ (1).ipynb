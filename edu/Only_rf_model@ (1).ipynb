{
 "cells": [
  {
   "cell_type": "code",
   "execution_count": 2,
   "id": "5dc3c54c-c6d0-4873-84ef-011f82284613",
   "metadata": {},
   "outputs": [],
   "source": [
    "import pandas as pd\n",
    "import numpy as np \n",
    "import pandas as pd\n",
    "import matplotlib.pyplot as plt\n",
    "import seaborn as sns\n",
    "import plotly.express as px\n",
    "from sklearn.tree import DecisionTreeClassifier\n",
    "from sklearn.ensemble import RandomForestClassifier\n",
    "from sklearn.preprocessing import StandardScaler\n",
    "from sklearn.model_selection import cross_val_score"
   ]
  },
  {
   "cell_type": "code",
   "execution_count": 3,
   "id": "fda7691e-ddca-423f-85cc-40b61bf16ef2",
   "metadata": {},
   "outputs": [],
   "source": [
    "def norma(x):\n",
    "    if(x <= 10):\n",
    "        return x\n",
    "    elif(x == 12 or x == 13):\n",
    "        return 10\n",
    "    return 5"
   ]
  },
  {
   "cell_type": "code",
   "execution_count": 4,
   "id": "42639f3e-5a27-49fb-bafc-e808ed95f41a",
   "metadata": {},
   "outputs": [],
   "source": [
    "scaler = StandardScaler()\n",
    "df = pd.read_csv(\"meteo_TRAIN.csv\")\n",
    "df[\"total cloud cover\"] = df[\"total cloud cover\"].apply(norma)\n",
    "weather = list(df[\"precipitation true\"].iloc[1:])\n",
    "df.drop(len(df)-1, axis=0, inplace=True)\n",
    "df[\"precipitation true\"] = weather\n",
    "dataset = df.drop([\"precipitation false\", \"Unnamed: 0\", \"weather between time\", \"night\"], axis=1)\n",
    "result_dataset = dataset.drop([\"total cloud cover\"], axis=1)\n",
    "X = np.array(dataset.drop(\"precipitation true\", axis=1))\n",
    "X = scaler.fit_transform(X)\n",
    "y = np.array(dataset[\"precipitation true\"])\n",
    "\n",
    "X_res = np.array(result_dataset.drop(\"precipitation true\", axis=1))\n",
    "X_res = scaler.fit_transform(X)\n",
    "y_res = np.array(result_dataset[\"precipitation true\"])"
   ]
  },
  {
   "cell_type": "code",
   "execution_count": null,
   "id": "68abdf75-6ce5-4775-8d5c-b8cf72aafe94",
   "metadata": {},
   "outputs": [
    {
     "name": "stdout",
     "output_type": "stream",
     "text": [
      "9\n",
      "10\n"
     ]
    }
   ],
   "source": [
    "history = []\n",
    "for depth in range(9, 14):\n",
    "    print(depth)\n",
    "    for criterion in (\"gini\", \"entropy\", \"log_loss\"):\n",
    "        for n_estimators in range(50, 500, 50):\n",
    "            for split in range(2, 5):\n",
    "                reg = RandomForestClassifier(max_depth = depth, criterion = criterion, n_estimators = n_estimators, min_samples_split = split, n_jobs = -1)\n",
    "                cvs = cross_val_score(reg, X, y, cv=5, scoring=\"accuracy\")\n",
    "                mean_cvs = np.mean(cvs)\n",
    "                history.append((np.abs(mean_cvs), depth, criterion, n_estimators,split))"
   ]
  },
  {
   "cell_type": "code",
   "execution_count": null,
   "id": "be3c0a67-f64c-4841-a8c4-79993726aa39",
   "metadata": {},
   "outputs": [],
   "source": [
    "sorted(history)[:10]"
   ]
  },
  {
   "cell_type": "code",
   "execution_count": null,
   "id": "76eac5cf-3c71-4c81-9645-f4db43ac2fa1",
   "metadata": {},
   "outputs": [],
   "source": [
    "history = []\n",
    "for depth in range(9, 14):\n",
    "    print(depth)\n",
    "    for criterion in (\"gini\", \"entropy\", \"log_loss\"):\n",
    "        for n_estimators in range(50, 500, 50):\n",
    "            for split in range(2, 5):\n",
    "                reg = RandomForestClassifier(max_depth = depth, criterion = criterion, n_estimators = n_estimators, min_samples_split = split, n_jobs = -1)\n",
    "                cvs = cross_val_score(reg, X_res, y_res, cv=5, scoring=\"accuracy\")\n",
    "                mean_cvs = np.mean(cvs)\n",
    "                history.append((np.abs(mean_cvs), depth, criterion, n_estimators,split))"
   ]
  },
  {
   "cell_type": "code",
   "execution_count": null,
   "id": "626d78dc-9d93-4b65-bf2a-5733613208e5",
   "metadata": {},
   "outputs": [],
   "source": [
    "sorted(history)[:10]"
   ]
  }
 ],
 "metadata": {
  "kernelspec": {
   "display_name": "Python 3 (ipykernel)",
   "language": "python",
   "name": "python3"
  },
  "language_info": {
   "codemirror_mode": {
    "name": "ipython",
    "version": 3
   },
   "file_extension": ".py",
   "mimetype": "text/x-python",
   "name": "python",
   "nbconvert_exporter": "python",
   "pygments_lexer": "ipython3",
   "version": "3.12.6"
  }
 },
 "nbformat": 4,
 "nbformat_minor": 5
}
