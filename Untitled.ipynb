{
 "cells": [
  {
   "cell_type": "code",
   "execution_count": 2,
   "id": "0fd3830f-98c4-4537-85d7-1a5aca381ba9",
   "metadata": {},
   "outputs": [
    {
     "name": "stderr",
     "output_type": "stream",
     "text": [
      "/home/alex/miniforge3/envs/ML/lib/python3.11/site-packages/xgboost/core.py:377: FutureWarning: Your system has an old version of glibc (< 2.28). We will stop supporting Linux distros with glibc older than 2.28 after **May 31, 2025**. Please upgrade to a recent Linux distro (with glibc >= 2.28) to use future versions of XGBoost.\n",
      "Note: You have installed the 'manylinux2014' variant of XGBoost. Certain features such as GPU algorithms or federated learning are not available. To use these features, please upgrade to a recent Linux distro with glibc 2.28+, and install the 'manylinux_2_28' variant.\n",
      "  warnings.warn(\n"
     ]
    }
   ],
   "source": [
    "import pandas as pd\n",
    "import numpy as np\n",
    "import seaborn as sns\n",
    "import matplotlib.pyplot as plt\n",
    "from sklearn.model_selection import train_test_split, cross_val_score\n",
    "from sklearn.preprocessing import StandardScaler\n",
    "from sklearn.model_selection import KFold\n",
    "from catboost import CatBoostClassifier\n",
    "from sklearn.metrics import fbeta_score, precision_score, recall_score\n",
    "import warnings\n",
    "from tqdm import tqdm\n",
    "warnings.filterwarnings(\"ignore\", category=UserWarning)"
   ]
  },
  {
   "cell_type": "code",
   "execution_count": null,
   "id": "84c2ac35-fd9d-4340-a9c6-894afeeb1c89",
   "metadata": {},
   "outputs": [
    {
     "name": "stdout",
     "output_type": "stream",
     "text": [
      "Best Model (1, 1e-05): Accuracy: 0.5217 | Precision: 0.5117 | Recall: 0.8758 | F1: 0.6436\n"
     ]
    }
   ],
   "source": [
    "df = pd.read_csv(\"dataset.csv\")\n",
    "df['LUNG_CANCER'] = df['LUNG_CANCER'].map({'NO':0, 'YES':1})\n",
    "x=df.drop(columns='LUNG_CANCER')\n",
    "y=df['LUNG_CANCER']\n",
    "x_train,x_test,y_train,y_test=train_test_split(x,y, test_size=0.2, random_state=42)\n",
    "info1 = []\n",
    "\n",
    "lrs = list(np.array([1e-5]).repeat(9) * np.array(range(1, 10)))\n",
    "lrs += list(np.array([1e-4]).repeat(9) * np.array(range(1, 10)))\n",
    "lrs += list(np.array([1e-3]).repeat(9) * np.array(range(1, 10)))\n",
    "lrs += list(np.array([1e-2]).repeat(9) * np.array(range(1, 10)))\n",
    "lrs += list(np.array([1e-1]).repeat(5) * np.array(range(1, 6)))\n",
    "lrs = list(np.round(lrs, 5))\n",
    "\n",
    "for md in range(1, 6):\n",
    "    for lr in lrs:\n",
    "        cls = CatBoostClassifier(\n",
    "            iterations=100000,\n",
    "            max_depth=md,\n",
    "            silent=True,\n",
    "            learning_rate=lr,\n",
    "            custom_metric=[\"Accuracy\", \"Recall\", \"Precision\", \"F1\"],\n",
    "            random_seed=123\n",
    "        )\n",
    "        cls.fit(\n",
    "            x_train,\n",
    "            y_train,\n",
    "            cat_features=[\n",
    "                'GENDER',\n",
    "                'SMOKING',\n",
    "                'YELLOW_FINGERS',\n",
    "                'ANXIETY',\n",
    "                'PEER_PRESSURE',\n",
    "                'CHRONIC_DISEASE',\n",
    "                'FATIGUE',\n",
    "                'ALLERGY',\n",
    "                'WHEEZING',\n",
    "                'ALCOHOL_CONSUMING',\n",
    "                'COUGHING',\n",
    "                'SHORTNESS_OF_BREATH',\n",
    "                'SWALLOWING_DIFFICULTY',\n",
    "                'CHEST_PAIN'\n",
    "            ],\n",
    "            eval_set=(x_test, y_test),\n",
    "            use_best_model=True,\n",
    "            early_stopping_rounds=2000\n",
    "        )\n",
    "\n",
    "        y_pred = cls.predict(x_test)\n",
    "\n",
    "        accuracy = cls.best_score_['validation']['Accuracy']\n",
    "        precision = cls.best_score_['validation']['Precision']\n",
    "        recall = cls.best_score_['validation']['Recall']\n",
    "        f1 = cls.best_score_['validation']['F1']\n",
    "        info1.append((accuracy, precision, recall, f1, md, lr))\n",
    "\n",
    "        print(f\"Best Model ({md}, {lr}): Accuracy: {accuracy:.4f} | Precision: {precision:.4f} | Recall: {recall:.4f} | F1: {f1:.4f}\")\n"
   ]
  },
  {
   "cell_type": "code",
   "execution_count": null,
   "id": "add944d0-e220-4924-82ce-ef9bef9747ad",
   "metadata": {},
   "outputs": [],
   "source": []
  }
 ],
 "metadata": {
  "kernelspec": {
   "display_name": "Python 3 (ipykernel)",
   "language": "python",
   "name": "python3"
  },
  "language_info": {
   "codemirror_mode": {
    "name": "ipython",
    "version": 3
   },
   "file_extension": ".py",
   "mimetype": "text/x-python",
   "name": "python",
   "nbconvert_exporter": "python",
   "pygments_lexer": "ipython3",
   "version": "3.11.13"
  }
 },
 "nbformat": 4,
 "nbformat_minor": 5
}
